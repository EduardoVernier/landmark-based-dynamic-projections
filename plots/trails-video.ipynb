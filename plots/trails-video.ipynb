{
 "cells": [
  {
   "cell_type": "code",
   "execution_count": 1,
   "metadata": {},
   "outputs": [],
   "source": [
    "%matplotlib inline\n",
    "import pandas as pd\n",
    "import numpy as np\n",
    "import matplotlib\n",
    "import matplotlib.pyplot as plt\n",
    "import os\n",
    "from glob import glob"
   ]
  },
  {
   "cell_type": "code",
   "execution_count": 2,
   "metadata": {
    "tags": [
     "parameters"
    ]
   },
   "outputs": [],
   "source": [
    "dataset_id = ''"
   ]
  },
  {
   "cell_type": "code",
   "execution_count": 3,
   "metadata": {},
   "outputs": [
    {
     "name": "stdout",
     "output_type": "stream",
     "text": [
      "/home/eduardo/PhD/Projections/landmark-based-dynamic-projections/plots\r\n"
     ]
    }
   ],
   "source": [
    "!pwd"
   ]
  },
  {
   "cell_type": "code",
   "execution_count": 4,
   "metadata": {},
   "outputs": [],
   "source": [
    "dataset_id = 'quickdraw'\n",
    "os.chdir('..')"
   ]
  },
  {
   "cell_type": "code",
   "execution_count": 5,
   "metadata": {},
   "outputs": [],
   "source": [
    "projection_paths = pd.read_csv('metrics/results/{}.csv'.format(dataset_id), index_col=0).index\n",
    "names = projection_paths.str.extract(r'.*/{}-(.*).csv'.format(dataset_id), expand=False) # Clean string"
   ]
  },
  {
   "cell_type": "code",
   "execution_count": 6,
   "metadata": {
    "scrolled": true
   },
   "outputs": [
    {
     "name": "stdout",
     "output_type": "stream",
     "text": [
      "Index(['Output/quickdraw-AE_784f_500f_500f_2000f_2f_20ep.csv',\n",
      "       'Output/quickdraw-C2AE_32c_32c_32c_1568f_2f_2ep.csv',\n",
      "       'Output/quickdraw-VAE_784f_2048f_1024f_512f_2f_0-25drop_10ep.csv',\n",
      "       'Output/quickdraw-C2VAE_32c_64c_128c_6272f_2f_10ep.csv',\n",
      "       'Output/quickdraw-tsne_s1_30p.csv', 'Output/quickdraw-tsne_s4_30p.csv',\n",
      "       'Output/quickdraw-dtsne_200p_0-1l.csv',\n",
      "       'Output/quickdraw-umap_s1_15p.csv', 'Output/quickdraw-umap_s4_15p.csv',\n",
      "       'Output/quickdraw-pca_s1.csv', 'Output/quickdraw-pca_s4.csv',\n",
      "       'output/quickdraw-ldtsne-p30-l0_1000-ge2-le1-krandom-n-TSNE-1585997292.csv',\n",
      "       'output/quickdraw-pcadtsne-p30-l0_001000-le1-ls1_00.csv'],\n",
      "      dtype='object') quickdraw\n"
     ]
    }
   ],
   "source": [
    "dataset_path = '../datasets/' + dataset_id + '/'\n",
    "print(projection_paths, dataset_id)\n",
    "\n",
    "projection_paths =\n",
    "    ['/home/eduardo/Desktop/Link to dynamic-projections/Output/quickdraw-AE_784f_500f_500f_2000f_2f_20ep.csv',\n",
    "#        '/home/eduardo/Desktop/Link to dynamic-projections/Output/quickdraw-C2AE_32c_32c_32c_1568f_2f_2ep.csv',\n",
    "       '/home/eduardo/Desktop/Link to dynamic-projections/Output/quickdraw-VAE_784f_2048f_1024f_512f_2f_0-25drop_10ep.csv',\n",
    "       '/home/eduardo/Desktop/Link to dynamic-projections/Output/quickdraw-C2VAE_32c_64c_128c_6272f_2f_10ep.csv',\n",
    "       '/home/eduardo/Desktop/Link to dynamic-projections/Output/quickdraw-tsne_s1_30p.csv', 'Output/quickdraw-tsne_s4_30p.csv',\n",
    "       'Output/quickdraw-dtsne_200p_0-1l.csv',\n",
    "       'Output/quickdraw-umap_s1_15p.csv', 'Output/quickdraw-umap_s4_15p.csv',\n",
    "       'Output/quickdraw-pca_s1.csv', 'Output/quickdraw-pca_s4.csv',\n",
    "       'output/quickdraw-ldtsne-p30-l0_1000-ge2-le1-krandom-n-TSNE-1585997292.csv',\n",
    "       'output/quickdraw-pcadtsne-p30-l0_001000-le1-ls1_00.csv']"
   ]
  },
  {
   "cell_type": "code",
   "execution_count": 7,
   "metadata": {},
   "outputs": [
    {
     "name": "stdout",
     "output_type": "stream",
     "text": [
      "mkdir: cannot create directory ‘plots/anim/quickdraw’: No such file or directory\r\n"
     ]
    }
   ],
   "source": [
    "!mkdir {'plots/anim/'+dataset_id}"
   ]
  },
  {
   "cell_type": "code",
   "execution_count": 8,
   "metadata": {},
   "outputs": [],
   "source": [
    "def get_projection_as_array(dataset_path):\n",
    "    df = pd.read_csv(dataset_path, index_col=0)\n",
    "    vs = df.values.reshape(len(df), -1, 2)\n",
    "    return vs, df.index, vs.shape[1]"
   ]
  },
  {
   "cell_type": "code",
   "execution_count": 9,
   "metadata": {},
   "outputs": [
    {
     "ename": "FileNotFoundError",
     "evalue": "[Errno 2] File b'Output/quickdraw-AE_784f_500f_500f_2000f_2f_20ep.csv' does not exist: b'Output/quickdraw-AE_784f_500f_500f_2000f_2f_20ep.csv'",
     "output_type": "error",
     "traceback": [
      "\u001b[0;31m---------------------------------------------------------------------------\u001b[0m",
      "\u001b[0;31mFileNotFoundError\u001b[0m                         Traceback (most recent call last)",
      "\u001b[0;32m<ipython-input-9-5facec931f07>\u001b[0m in \u001b[0;36m<module>\u001b[0;34m\u001b[0m\n\u001b[1;32m      4\u001b[0m \u001b[0mcolors\u001b[0m \u001b[0;34m=\u001b[0m \u001b[0;34m{\u001b[0m\u001b[0;34m}\u001b[0m\u001b[0;34m\u001b[0m\u001b[0m\n\u001b[1;32m      5\u001b[0m \u001b[0;32mfor\u001b[0m \u001b[0mp_i\u001b[0m\u001b[0;34m,\u001b[0m \u001b[0mp\u001b[0m \u001b[0;32min\u001b[0m \u001b[0menumerate\u001b[0m\u001b[0;34m(\u001b[0m\u001b[0mprojection_paths\u001b[0m\u001b[0;34m)\u001b[0m\u001b[0;34m:\u001b[0m\u001b[0;34m\u001b[0m\u001b[0m\n\u001b[0;32m----> 6\u001b[0;31m     \u001b[0mpos\u001b[0m\u001b[0;34m,\u001b[0m \u001b[0mind\u001b[0m\u001b[0;34m,\u001b[0m \u001b[0mn_timesteps\u001b[0m \u001b[0;34m=\u001b[0m \u001b[0mget_projection_as_array\u001b[0m\u001b[0;34m(\u001b[0m\u001b[0mp\u001b[0m\u001b[0;34m)\u001b[0m\u001b[0;34m\u001b[0m\u001b[0m\n\u001b[0m\u001b[1;32m      7\u001b[0m     \u001b[0;31m# Shuffle arrays\u001b[0m\u001b[0;34m\u001b[0m\u001b[0;34m\u001b[0m\u001b[0m\n\u001b[1;32m      8\u001b[0m     \u001b[0mperm\u001b[0m \u001b[0;34m=\u001b[0m \u001b[0mnp\u001b[0m\u001b[0;34m.\u001b[0m\u001b[0mrandom\u001b[0m\u001b[0;34m.\u001b[0m\u001b[0mpermutation\u001b[0m\u001b[0;34m(\u001b[0m\u001b[0mlen\u001b[0m\u001b[0;34m(\u001b[0m\u001b[0mind\u001b[0m\u001b[0;34m)\u001b[0m\u001b[0;34m)\u001b[0m\u001b[0;34m\u001b[0m\u001b[0m\n",
      "\u001b[0;32m<ipython-input-8-69d44b851006>\u001b[0m in \u001b[0;36mget_projection_as_array\u001b[0;34m(dataset_path)\u001b[0m\n\u001b[1;32m      1\u001b[0m \u001b[0;32mdef\u001b[0m \u001b[0mget_projection_as_array\u001b[0m\u001b[0;34m(\u001b[0m\u001b[0mdataset_path\u001b[0m\u001b[0;34m)\u001b[0m\u001b[0;34m:\u001b[0m\u001b[0;34m\u001b[0m\u001b[0m\n\u001b[0;32m----> 2\u001b[0;31m     \u001b[0mdf\u001b[0m \u001b[0;34m=\u001b[0m \u001b[0mpd\u001b[0m\u001b[0;34m.\u001b[0m\u001b[0mread_csv\u001b[0m\u001b[0;34m(\u001b[0m\u001b[0mdataset_path\u001b[0m\u001b[0;34m,\u001b[0m \u001b[0mindex_col\u001b[0m\u001b[0;34m=\u001b[0m\u001b[0;36m0\u001b[0m\u001b[0;34m)\u001b[0m\u001b[0;34m\u001b[0m\u001b[0m\n\u001b[0m\u001b[1;32m      3\u001b[0m     \u001b[0mvs\u001b[0m \u001b[0;34m=\u001b[0m \u001b[0mdf\u001b[0m\u001b[0;34m.\u001b[0m\u001b[0mvalues\u001b[0m\u001b[0;34m.\u001b[0m\u001b[0mreshape\u001b[0m\u001b[0;34m(\u001b[0m\u001b[0mlen\u001b[0m\u001b[0;34m(\u001b[0m\u001b[0mdf\u001b[0m\u001b[0;34m)\u001b[0m\u001b[0;34m,\u001b[0m \u001b[0;34m-\u001b[0m\u001b[0;36m1\u001b[0m\u001b[0;34m,\u001b[0m \u001b[0;36m2\u001b[0m\u001b[0;34m)\u001b[0m\u001b[0;34m\u001b[0m\u001b[0m\n\u001b[1;32m      4\u001b[0m     \u001b[0;32mreturn\u001b[0m \u001b[0mvs\u001b[0m\u001b[0;34m,\u001b[0m \u001b[0mdf\u001b[0m\u001b[0;34m.\u001b[0m\u001b[0mindex\u001b[0m\u001b[0;34m,\u001b[0m \u001b[0mvs\u001b[0m\u001b[0;34m.\u001b[0m\u001b[0mshape\u001b[0m\u001b[0;34m[\u001b[0m\u001b[0;36m1\u001b[0m\u001b[0;34m]\u001b[0m\u001b[0;34m\u001b[0m\u001b[0m\n",
      "\u001b[0;32m~/.local/lib/python3.5/site-packages/pandas/io/parsers.py\u001b[0m in \u001b[0;36mparser_f\u001b[0;34m(filepath_or_buffer, sep, delimiter, header, names, index_col, usecols, squeeze, prefix, mangle_dupe_cols, dtype, engine, converters, true_values, false_values, skipinitialspace, skiprows, skipfooter, nrows, na_values, keep_default_na, na_filter, verbose, skip_blank_lines, parse_dates, infer_datetime_format, keep_date_col, date_parser, dayfirst, iterator, chunksize, compression, thousands, decimal, lineterminator, quotechar, quoting, doublequote, escapechar, comment, encoding, dialect, tupleize_cols, error_bad_lines, warn_bad_lines, delim_whitespace, low_memory, memory_map, float_precision)\u001b[0m\n\u001b[1;32m    700\u001b[0m                     skip_blank_lines=skip_blank_lines)\n\u001b[1;32m    701\u001b[0m \u001b[0;34m\u001b[0m\u001b[0m\n\u001b[0;32m--> 702\u001b[0;31m         \u001b[0;32mreturn\u001b[0m \u001b[0m_read\u001b[0m\u001b[0;34m(\u001b[0m\u001b[0mfilepath_or_buffer\u001b[0m\u001b[0;34m,\u001b[0m \u001b[0mkwds\u001b[0m\u001b[0;34m)\u001b[0m\u001b[0;34m\u001b[0m\u001b[0m\n\u001b[0m\u001b[1;32m    703\u001b[0m \u001b[0;34m\u001b[0m\u001b[0m\n\u001b[1;32m    704\u001b[0m     \u001b[0mparser_f\u001b[0m\u001b[0;34m.\u001b[0m\u001b[0m__name__\u001b[0m \u001b[0;34m=\u001b[0m \u001b[0mname\u001b[0m\u001b[0;34m\u001b[0m\u001b[0m\n",
      "\u001b[0;32m~/.local/lib/python3.5/site-packages/pandas/io/parsers.py\u001b[0m in \u001b[0;36m_read\u001b[0;34m(filepath_or_buffer, kwds)\u001b[0m\n\u001b[1;32m    427\u001b[0m \u001b[0;34m\u001b[0m\u001b[0m\n\u001b[1;32m    428\u001b[0m     \u001b[0;31m# Create the parser.\u001b[0m\u001b[0;34m\u001b[0m\u001b[0;34m\u001b[0m\u001b[0m\n\u001b[0;32m--> 429\u001b[0;31m     \u001b[0mparser\u001b[0m \u001b[0;34m=\u001b[0m \u001b[0mTextFileReader\u001b[0m\u001b[0;34m(\u001b[0m\u001b[0mfilepath_or_buffer\u001b[0m\u001b[0;34m,\u001b[0m \u001b[0;34m**\u001b[0m\u001b[0mkwds\u001b[0m\u001b[0;34m)\u001b[0m\u001b[0;34m\u001b[0m\u001b[0m\n\u001b[0m\u001b[1;32m    430\u001b[0m \u001b[0;34m\u001b[0m\u001b[0m\n\u001b[1;32m    431\u001b[0m     \u001b[0;32mif\u001b[0m \u001b[0mchunksize\u001b[0m \u001b[0;32mor\u001b[0m \u001b[0miterator\u001b[0m\u001b[0;34m:\u001b[0m\u001b[0;34m\u001b[0m\u001b[0m\n",
      "\u001b[0;32m~/.local/lib/python3.5/site-packages/pandas/io/parsers.py\u001b[0m in \u001b[0;36m__init__\u001b[0;34m(self, f, engine, **kwds)\u001b[0m\n\u001b[1;32m    893\u001b[0m             \u001b[0mself\u001b[0m\u001b[0;34m.\u001b[0m\u001b[0moptions\u001b[0m\u001b[0;34m[\u001b[0m\u001b[0;34m'has_index_names'\u001b[0m\u001b[0;34m]\u001b[0m \u001b[0;34m=\u001b[0m \u001b[0mkwds\u001b[0m\u001b[0;34m[\u001b[0m\u001b[0;34m'has_index_names'\u001b[0m\u001b[0;34m]\u001b[0m\u001b[0;34m\u001b[0m\u001b[0m\n\u001b[1;32m    894\u001b[0m \u001b[0;34m\u001b[0m\u001b[0m\n\u001b[0;32m--> 895\u001b[0;31m         \u001b[0mself\u001b[0m\u001b[0;34m.\u001b[0m\u001b[0m_make_engine\u001b[0m\u001b[0;34m(\u001b[0m\u001b[0mself\u001b[0m\u001b[0;34m.\u001b[0m\u001b[0mengine\u001b[0m\u001b[0;34m)\u001b[0m\u001b[0;34m\u001b[0m\u001b[0m\n\u001b[0m\u001b[1;32m    896\u001b[0m \u001b[0;34m\u001b[0m\u001b[0m\n\u001b[1;32m    897\u001b[0m     \u001b[0;32mdef\u001b[0m \u001b[0mclose\u001b[0m\u001b[0;34m(\u001b[0m\u001b[0mself\u001b[0m\u001b[0;34m)\u001b[0m\u001b[0;34m:\u001b[0m\u001b[0;34m\u001b[0m\u001b[0m\n",
      "\u001b[0;32m~/.local/lib/python3.5/site-packages/pandas/io/parsers.py\u001b[0m in \u001b[0;36m_make_engine\u001b[0;34m(self, engine)\u001b[0m\n\u001b[1;32m   1120\u001b[0m     \u001b[0;32mdef\u001b[0m \u001b[0m_make_engine\u001b[0m\u001b[0;34m(\u001b[0m\u001b[0mself\u001b[0m\u001b[0;34m,\u001b[0m \u001b[0mengine\u001b[0m\u001b[0;34m=\u001b[0m\u001b[0;34m'c'\u001b[0m\u001b[0;34m)\u001b[0m\u001b[0;34m:\u001b[0m\u001b[0;34m\u001b[0m\u001b[0m\n\u001b[1;32m   1121\u001b[0m         \u001b[0;32mif\u001b[0m \u001b[0mengine\u001b[0m \u001b[0;34m==\u001b[0m \u001b[0;34m'c'\u001b[0m\u001b[0;34m:\u001b[0m\u001b[0;34m\u001b[0m\u001b[0m\n\u001b[0;32m-> 1122\u001b[0;31m             \u001b[0mself\u001b[0m\u001b[0;34m.\u001b[0m\u001b[0m_engine\u001b[0m \u001b[0;34m=\u001b[0m \u001b[0mCParserWrapper\u001b[0m\u001b[0;34m(\u001b[0m\u001b[0mself\u001b[0m\u001b[0;34m.\u001b[0m\u001b[0mf\u001b[0m\u001b[0;34m,\u001b[0m \u001b[0;34m**\u001b[0m\u001b[0mself\u001b[0m\u001b[0;34m.\u001b[0m\u001b[0moptions\u001b[0m\u001b[0;34m)\u001b[0m\u001b[0;34m\u001b[0m\u001b[0m\n\u001b[0m\u001b[1;32m   1123\u001b[0m         \u001b[0;32melse\u001b[0m\u001b[0;34m:\u001b[0m\u001b[0;34m\u001b[0m\u001b[0m\n\u001b[1;32m   1124\u001b[0m             \u001b[0;32mif\u001b[0m \u001b[0mengine\u001b[0m \u001b[0;34m==\u001b[0m \u001b[0;34m'python'\u001b[0m\u001b[0;34m:\u001b[0m\u001b[0;34m\u001b[0m\u001b[0m\n",
      "\u001b[0;32m~/.local/lib/python3.5/site-packages/pandas/io/parsers.py\u001b[0m in \u001b[0;36m__init__\u001b[0;34m(self, src, **kwds)\u001b[0m\n\u001b[1;32m   1851\u001b[0m         \u001b[0mkwds\u001b[0m\u001b[0;34m[\u001b[0m\u001b[0;34m'usecols'\u001b[0m\u001b[0;34m]\u001b[0m \u001b[0;34m=\u001b[0m \u001b[0mself\u001b[0m\u001b[0;34m.\u001b[0m\u001b[0musecols\u001b[0m\u001b[0;34m\u001b[0m\u001b[0m\n\u001b[1;32m   1852\u001b[0m \u001b[0;34m\u001b[0m\u001b[0m\n\u001b[0;32m-> 1853\u001b[0;31m         \u001b[0mself\u001b[0m\u001b[0;34m.\u001b[0m\u001b[0m_reader\u001b[0m \u001b[0;34m=\u001b[0m \u001b[0mparsers\u001b[0m\u001b[0;34m.\u001b[0m\u001b[0mTextReader\u001b[0m\u001b[0;34m(\u001b[0m\u001b[0msrc\u001b[0m\u001b[0;34m,\u001b[0m \u001b[0;34m**\u001b[0m\u001b[0mkwds\u001b[0m\u001b[0;34m)\u001b[0m\u001b[0;34m\u001b[0m\u001b[0m\n\u001b[0m\u001b[1;32m   1854\u001b[0m         \u001b[0mself\u001b[0m\u001b[0;34m.\u001b[0m\u001b[0munnamed_cols\u001b[0m \u001b[0;34m=\u001b[0m \u001b[0mself\u001b[0m\u001b[0;34m.\u001b[0m\u001b[0m_reader\u001b[0m\u001b[0;34m.\u001b[0m\u001b[0munnamed_cols\u001b[0m\u001b[0;34m\u001b[0m\u001b[0m\n\u001b[1;32m   1855\u001b[0m \u001b[0;34m\u001b[0m\u001b[0m\n",
      "\u001b[0;32mpandas/_libs/parsers.pyx\u001b[0m in \u001b[0;36mpandas._libs.parsers.TextReader.__cinit__\u001b[0;34m()\u001b[0m\n",
      "\u001b[0;32mpandas/_libs/parsers.pyx\u001b[0m in \u001b[0;36mpandas._libs.parsers.TextReader._setup_parser_source\u001b[0;34m()\u001b[0m\n",
      "\u001b[0;31mFileNotFoundError\u001b[0m: [Errno 2] File b'Output/quickdraw-AE_784f_500f_500f_2000f_2f_20ep.csv' does not exist: b'Output/quickdraw-AE_784f_500f_500f_2000f_2f_20ep.csv'"
     ]
    }
   ],
   "source": [
    "lims = {}\n",
    "pos_interp = {}\n",
    "indexes = {}\n",
    "colors = {}\n",
    "for p_i, p in enumerate(projection_paths):\n",
    "    pos, ind, n_timesteps = get_projection_as_array(p)\n",
    "    # Shuffle arrays\n",
    "    perm = np.random.permutation(len(ind))\n",
    "    pos = pos[perm]\n",
    "    indexes[p] = ind[perm]\n",
    "\n",
    "    # Set x and y axis limits\n",
    "    x_max = max(pos[:,:,0].flatten())\n",
    "    x_min = min(pos[:,:,0].flatten())\n",
    "    y_max = max(pos[:,:,1].flatten())\n",
    "    y_min = min(pos[:,:,1].flatten())\n",
    "    x_max = x_max + (x_max - x_min) * .03\n",
    "    x_min = x_min - (x_max - x_min) * .03\n",
    "    y_max = y_max + (y_max - y_min) * .03\n",
    "    y_min = y_min - (y_max - y_min) * .03\n",
    "    lims[p] = (x_min, x_max, y_min, y_max)\n",
    "\n",
    "    # Choose colors\n",
    "    colormap = matplotlib.cm.Set3\n",
    "    classes = indexes[p].str.split('-').str[0]\n",
    "    unique_colors = {k:i for i,k in enumerate(np.unique(classes))}\n",
    "    colors[p] = [colormap(unique_colors[c]) for c in classes] \n",
    "\n",
    "    # Add more points with akima interpolation\n",
    "    n_nans = 9\n",
    "    pos_int = []\n",
    "    for points in pos:\n",
    "        extended = []\n",
    "        for po in points:\n",
    "            extended.append(list(po))\n",
    "            for i in range(n_nans):\n",
    "                extended.append([np.nan, np.nan])\n",
    "        df = pd.DataFrame(extended)\n",
    "        df = df.interpolate(method='akima')\n",
    "        df = df.dropna()\n",
    "        pos_int.append(df.values)\n",
    "    pos_interp[p] = np.array(pos_int)\n",
    "    n_extended = len(df)"
   ]
  },
  {
   "cell_type": "code",
   "execution_count": null,
   "metadata": {},
   "outputs": [],
   "source": [
    "anim_dir = 'plots/anim/{}'.format(dataset_id)\n",
    "# Draw figures\n",
    "size_trail = 5\n",
    "n_proj = len(projection_paths)\n",
    "\n",
    "for t in range(n_extended):\n",
    "    if n_proj < 5:\n",
    "        fig, axes = plt.subplots(ncols=n_proj, nrows=1,figsize=(n_proj*5,5))\n",
    "    elif n_proj == 9:\n",
    "        ncols = 5\n",
    "        nrows = (n_proj-1) // 5 + 1\n",
    "        fig, axes = plt.subplots(ncols=ncols, nrows=nrows,figsize=(ncols*5,nrows*5))   \n",
    "        axes = axes.flatten()\n",
    "        if len(axes) > n_proj:\n",
    "            [ax.set_visible(False) for ax in axes[n_proj:len(axes)]]\n",
    "    elif n_proj == 11:\n",
    "        ncols = 4\n",
    "        nrows = (n_proj-1) // 4 + 1\n",
    "        fig, axes = plt.subplots(ncols=ncols, nrows=nrows,figsize=(ncols*5,nrows*5))   \n",
    "        axes = axes.flatten()\n",
    "        if len(axes) > n_proj:\n",
    "            [ax.set_visible(False) for ax in axes[n_proj:len(axes)]]\n",
    "            \n",
    "    for p_i, p in enumerate(projection_paths):\n",
    "        # Draw trails\n",
    "        ax = axes[p_i]\n",
    "        ax.set_title(names[p_i])\n",
    "        for i in range(len(indexes[p])):\n",
    "            b_trail = max(0, t - n_nans * size_trail)\n",
    "            e_trail = t + 1\n",
    "            points = pos_interp[p][i,b_trail:e_trail]\n",
    "            ax.plot(points[:,0], points[:,1], \n",
    "                    c=colors[p][i], lw=2, alpha=0.25);\n",
    "        # Draw scatter\n",
    "        ax.scatter(pos_interp[p][:,t,0], pos_interp[p][:,t,1], \n",
    "                   edgecolors='#000000', s=15, c=colors[p], alpha=0.5, zorder=4);\n",
    "        # Write text with current t in the first axis\n",
    "        if p_i == 0:\n",
    "            current_t = int(t/(n_nans+1))\n",
    "            ax.text(0.01, 0.01, str(current_t), \n",
    "                    ha='left', va='bottom', fontsize=18, transform=ax.transAxes)\n",
    "\n",
    "        ax.tick_params(axis='both', which='both', bottom=False, top=False,\n",
    "                       labelbottom=False, right=False, left=False, labelleft=False)\n",
    "        ax.set_xlim(lims[p][0], lims[p][1])\n",
    "        ax.set_ylim(lims[p][2], lims[p][3])\n",
    "        plt.tight_layout()\n",
    "#      plt.axis('scaled')\n",
    "\n",
    "    # Save current frame\n",
    "    plt.savefig('{}/proj-{}.png'.format(anim_dir, t),\n",
    "                format='png', dpi=80, bbox_inches='tight')\n",
    "#     plt.show()\n",
    "    plt.clf()\n",
    "    plt.close()\n",
    "    break"
   ]
  },
  {
   "cell_type": "code",
   "execution_count": null,
   "metadata": {},
   "outputs": [],
   "source": [
    "# Generate gif - usually large\n",
    "# n = n_extended-1\n",
    "# !convert -delay 5 -loop 0 {anim_dir}/proj-%d.png[0-{n}] {anim_dir}/{dataset_id}-gif.gif"
   ]
  },
  {
   "cell_type": "code",
   "execution_count": null,
   "metadata": {},
   "outputs": [],
   "source": [
    "# os.chdir(anim_dir)\n",
    "# ! pwd"
   ]
  },
  {
   "cell_type": "code",
   "execution_count": null,
   "metadata": {},
   "outputs": [],
   "source": [
    "#sudo apt install mencoder"
   ]
  },
  {
   "cell_type": "code",
   "execution_count": null,
   "metadata": {},
   "outputs": [],
   "source": [
    "# # Generate video\n",
    "# ! ls | grep .*.png | sort -V > order.txt\n",
    "# ! mencoder mf://@order.txt -mf fps=10:type=png -ovc x264 -x264encopts bitrate=1200:threads=2 -o {dataset_id}-avi-10.avi\n",
    "# ! mencoder mf://@order.txt -mf fps=15:type=png -ovc x264 -x264encopts bitrate=1200:threads=2 -o {dataset_id}-avi-15.avi\n",
    "# ! rm order.txt"
   ]
  },
  {
   "cell_type": "code",
   "execution_count": null,
   "metadata": {},
   "outputs": [],
   "source": [
    "# # Remove intermediate files\n",
    "# for i in range(n_extended):\n",
    "#     if i % (n_nans+1) != 0:\n",
    "#         r = 'proj-{}.png'.format(anim_dir, i) \n",
    "#         print('rm ' + r)\n",
    "#         ! rm {r}"
   ]
  }
 ],
 "metadata": {
  "celltoolbar": "Tags",
  "kernelspec": {
   "display_name": "Python 3",
   "language": "python",
   "name": "python3"
  },
  "language_info": {
   "codemirror_mode": {
    "name": "ipython",
    "version": 3
   },
   "file_extension": ".py",
   "mimetype": "text/x-python",
   "name": "python",
   "nbconvert_exporter": "python",
   "pygments_lexer": "ipython3",
   "version": "3.5.2"
  }
 },
 "nbformat": 4,
 "nbformat_minor": 2
}
