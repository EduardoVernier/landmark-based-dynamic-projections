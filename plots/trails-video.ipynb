{
 "cells": [
  {
   "cell_type": "code",
   "execution_count": 1,
   "metadata": {},
   "outputs": [],
   "source": [
    "%matplotlib inline\n",
    "import pandas as pd\n",
    "import numpy as np\n",
    "import matplotlib\n",
    "import matplotlib.pyplot as plt\n",
    "import os\n",
    "import glob"
   ]
  },
  {
   "cell_type": "code",
   "execution_count": 2,
   "metadata": {
    "tags": [
     "parameters"
    ]
   },
   "outputs": [],
   "source": [
    "dataset_id = ''"
   ]
  },
  {
   "cell_type": "code",
   "execution_count": 3,
   "metadata": {},
   "outputs": [
    {
     "name": "stdout",
     "output_type": "stream",
     "text": [
      "/home/eduardo/Desktop/Link to landmark-based-dynamic-projections/plots\r\n"
     ]
    }
   ],
   "source": [
    "!pwd"
   ]
  },
  {
   "cell_type": "code",
   "execution_count": 4,
   "metadata": {},
   "outputs": [],
   "source": [
    "dataset_id = 'quickdraw'\n",
    "os.chdir('..')"
   ]
  },
  {
   "cell_type": "code",
   "execution_count": 5,
   "metadata": {},
   "outputs": [],
   "source": [
    "projection_paths = pd.read_csv('metrics/results/{}.csv'.format(dataset_id), index_col=0).index"
   ]
  },
  {
   "cell_type": "code",
   "execution_count": 6,
   "metadata": {
    "scrolled": true
   },
   "outputs": [],
   "source": [
    "# dataset_path = '../datasets/' + dataset_id + '/'\n",
    "# print(projection_paths, dataset_id)\n",
    "\n",
    "# projection_paths =\n",
    "#     ['/home/eduardo/Desktop/Link to dynamic-projections/Output/quickdraw-AE_784f_500f_500f_2000f_2f_20ep.csv',\n",
    "# #        '/home/eduardo/Desktop/Link to dynamic-projections/Output/quickdraw-C2AE_32c_32c_32c_1568f_2f_2ep.csv',\n",
    "#        '/home/eduardo/Desktop/Link to dynamic-projections/Output/quickdraw-VAE_784f_2048f_1024f_512f_2f_0-25drop_10ep.csv',\n",
    "#        '/home/eduardo/Desktop/Link to dynamic-projections/Output/quickdraw-C2VAE_32c_64c_128c_6272f_2f_10ep.csv',\n",
    "#        '/home/eduardo/Desktop/Link to dynamic-projections/Output/quickdraw-tsne_s1_30p.csv', 'Output/quickdraw-tsne_s4_30p.csv',\n",
    "#        'Output/quickdraw-dtsne_200p_0-1l.csv',\n",
    "#        'Output/quickdraw-umap_s1_15p.csv', 'Output/quickdraw-umap_s4_15p.csv',\n",
    "#        'Output/quickdraw-pca_s1.csv', 'Output/quickdraw-pca_s4.csv',\n",
    "#        'output/quickdraw-ldtsne-p30-l0_1000-ge2-le1-krandom-n-TSNE-1585997292.csv',\n",
    "#        'output/quickdraw-pcadtsne-p30-l0_001000-le1-ls1_00.csv']"
   ]
  },
  {
   "cell_type": "code",
   "execution_count": 7,
   "metadata": {},
   "outputs": [
    {
     "data": {
      "text/plain": [
       "['/home/eduardo/Desktop/Link to dynamic-projections/Output/quickdraw-AE_784f_500f_500f_2000f_2f_20ep.csv',\n",
       " '/home/eduardo/Desktop/Link to dynamic-projections/Output/quickdraw-C2AE_32c_32c_32c_1568f_2f_2ep.csv',\n",
       " '/home/eduardo/Desktop/Link to dynamic-projections/Output/quickdraw-VAE_784f_2048f_1024f_512f_2f_0-25drop_10ep.csv',\n",
       " '/home/eduardo/Desktop/Link to dynamic-projections/Output/quickdraw-C2VAE_32c_64c_128c_6272f_2f_10ep.csv',\n",
       " '/home/eduardo/Desktop/Link to dynamic-projections/Output/quickdraw-tsne_s1_30p.csv',\n",
       " '/home/eduardo/Desktop/Link to dynamic-projections/Output/quickdraw-tsne_s4_30p.csv',\n",
       " './output/quickdraw-ctsne-p30.csv',\n",
       " '/home/eduardo/Desktop/Link to dynamic-projections/Output/quickdraw-dtsne_200p_0-1l.csv',\n",
       " '/home/eduardo/Desktop/Link to dynamic-projections/Output/quickdraw-umap_s1_15p.csv',\n",
       " '/home/eduardo/Desktop/Link to dynamic-projections/Output/quickdraw-umap_s4_15p.csv',\n",
       " './output/quickdraw-cumap.csv',\n",
       " '/home/eduardo/Desktop/Link to dynamic-projections/Output/quickdraw-pca_s1.csv',\n",
       " '/home/eduardo/Desktop/Link to dynamic-projections/Output/quickdraw-pca_s4.csv',\n",
       " './output/quickdraw-ldtsne-p30-l0_1000-ge2-le1-krandom-n-TSNE-1585997292.csv',\n",
       " './output/quickdraw-pcadtsne-p30-l0_001000-le1-ls1_00.csv']"
      ]
     },
     "execution_count": 7,
     "metadata": {},
     "output_type": "execute_result"
    }
   ],
   "source": [
    "ppppp = []\n",
    "for i, p in enumerate(projection_paths):\n",
    "    if len(glob.glob('./output/' + p)) > 0:\n",
    "        ppppp.append('./output/' + p)\n",
    "    elif len(glob.glob('/home/eduardo/Desktop/Link to dynamic-projections/Output/'+p)) > 0:\n",
    "        ppppp.append('/home/eduardo/Desktop/Link to dynamic-projections/Output/' + p)\n",
    "projection_paths = ppppp\n",
    "projection_paths"
   ]
  },
  {
   "cell_type": "code",
   "execution_count": 8,
   "metadata": {},
   "outputs": [],
   "source": [
    "names = pd.DataFrame(projection_paths)[0].str.extract(r'.*{}-(.*).csv'.format(dataset_id), expand=False) # Clean string"
   ]
  },
  {
   "cell_type": "code",
   "execution_count": 9,
   "metadata": {},
   "outputs": [
    {
     "name": "stdout",
     "output_type": "stream",
     "text": [
      "mkdir: cannot create directory ‘plots/anim/quickdraw’: File exists\r\n"
     ]
    }
   ],
   "source": [
    "!mkdir {'plots/anim/'+dataset_id}"
   ]
  },
  {
   "cell_type": "code",
   "execution_count": 10,
   "metadata": {},
   "outputs": [],
   "source": [
    "def get_method(name):\n",
    "    s = name\n",
    "    if s.startswith('tsne_s1'):\n",
    "        return 'TF-tSNE'\n",
    "    elif s.startswith('tsne_s4'):\n",
    "        return 'G-tSNE'\n",
    "    elif s.startswith('ctsne'):\n",
    "        return 'C-tSNE'\n",
    "    elif s.startswith('dtsne'):\n",
    "        return 'D-tSNE'\n",
    "    elif s.startswith('ldtsne'):\n",
    "        return 'LD-tSNE'\n",
    "    elif s.startswith('pcadtsne'):\n",
    "        return 'PCD-tSNE'\n",
    "    elif s.startswith('pca_s1'):\n",
    "        return 'TF-PCA'        \n",
    "    elif s.startswith('pca_s4'):\n",
    "        return 'G-PCA'\n",
    "    elif s.startswith('umap_s1'):\n",
    "        return 'TF-UMAP'        \n",
    "    elif s.startswith('umap_s4'):\n",
    "        return 'G-UMAP'\n",
    "    elif s.startswith('cumap'):\n",
    "        return 'C-UMAP'\n",
    "    elif s.startswith('AE'):\n",
    "        return 'G-AE'\n",
    "    elif s.startswith('VAE'):\n",
    "        return 'G-VAE'\n",
    "    else:\n",
    "        return s.split('_')[0]"
   ]
  },
  {
   "cell_type": "code",
   "execution_count": 11,
   "metadata": {},
   "outputs": [],
   "source": [
    "name_to_ax = {'TF-PCA' : 0,\n",
    "'TF-tSNE' : 1 ,\n",
    "'TF-UMAP' : 2,\n",
    "'G-AE' : 5,\n",
    "'G-VAE' : 6,\n",
    "'G-PCA' : 7,\n",
    "'G-tSNE' : 8,\n",
    "'G-UMAP' : 9,\n",
    "'C-tSNE' : 10,\n",
    "'C-UMAP' : 11,\n",
    "'D-tSNE' : 12,\n",
    "'PCD-tSNE' : 15,\n",
    "'LD-tSNE' : 16}\n"
   ]
  },
  {
   "cell_type": "code",
   "execution_count": 12,
   "metadata": {},
   "outputs": [],
   "source": [
    "def get_projection_as_array(dataset_path):\n",
    "    df = pd.read_csv(dataset_path, index_col=0)\n",
    "    vs = df.values.reshape(len(df), -1, 2)\n",
    "    return vs, df.index, vs.shape[1]"
   ]
  },
  {
   "cell_type": "code",
   "execution_count": 13,
   "metadata": {},
   "outputs": [],
   "source": [
    "lims = {}\n",
    "pos_interp = {}\n",
    "indexes = {}\n",
    "colors = {}\n",
    "for p_i, p in enumerate(projection_paths):\n",
    "    pos, ind, n_timesteps = get_projection_as_array(p)\n",
    "    # Shuffle arrays\n",
    "    perm = np.random.permutation(len(ind))\n",
    "    pos = pos[perm]\n",
    "    indexes[p] = ind[perm]\n",
    "\n",
    "    # Set x and y axis limits\n",
    "    x_max = max(pos[:,:,0].flatten())\n",
    "    x_min = min(pos[:,:,0].flatten())\n",
    "    y_max = max(pos[:,:,1].flatten())\n",
    "    y_min = min(pos[:,:,1].flatten())\n",
    "    x_max = x_max + (x_max - x_min) * .03\n",
    "    x_min = x_min - (x_max - x_min) * .03\n",
    "    y_max = y_max + (y_max - y_min) * .03\n",
    "    y_min = y_min - (y_max - y_min) * .03\n",
    "    lims[p] = (x_min, x_max, y_min, y_max)\n",
    "\n",
    "    # Choose colors\n",
    "    colormap = matplotlib.cm.Set3\n",
    "    classes = indexes[p].str.split('-').str[0]\n",
    "    unique_colors = {k:i for i,k in enumerate(np.unique(classes))}\n",
    "    colors[p] = [colormap(unique_colors[c]) for c in classes] \n",
    "\n",
    "    # Add more points with akima interpolation\n",
    "    n_nans = 9\n",
    "    pos_int = []\n",
    "    for points in pos:\n",
    "        extended = []\n",
    "        for po in points:\n",
    "            extended.append(list(po))\n",
    "            for i in range(n_nans):\n",
    "                extended.append([np.nan, np.nan])\n",
    "        df = pd.DataFrame(extended)\n",
    "        df = df.interpolate(method='akima')\n",
    "        df = df.dropna()\n",
    "        pos_int.append(df.values)\n",
    "    pos_interp[p] = np.array(pos_int)\n",
    "    n_extended = len(df)"
   ]
  },
  {
   "cell_type": "code",
   "execution_count": null,
   "metadata": {},
   "outputs": [],
   "source": [
    "anim_dir = 'plots/anim/{}'.format(dataset_id)\n",
    "# Draw figures\n",
    "size_trail = 5\n",
    "n_proj = len(projection_paths)\n",
    "\n",
    "for t in range(582,n_extended):\n",
    "    ncols = 5\n",
    "    nrows = 4\n",
    "    fig, axes = plt.subplots(ncols=ncols, nrows=nrows,figsize=(ncols*5,nrows*5))   \n",
    "    axes = axes.flatten()\n",
    "    for i in range(ncols*nrows):\n",
    "        if i not in name_to_ax.values():\n",
    "            [ax.set_visible(False) for ax in axes[i:i+1]]\n",
    "            \n",
    "    for p_i, p in enumerate(projection_paths):\n",
    "        if get_method(names[p_i]) in name_to_ax:\n",
    "            # Draw trails\n",
    "            ax = axes[name_to_ax[get_method(names[p_i])]]\n",
    "    #         [p_i]\n",
    "            ax.set_title(get_method(names[p_i]), fontsize=18)\n",
    "            for i in range(len(indexes[p])):\n",
    "                b_trail = max(0, t - n_nans * size_trail)\n",
    "                e_trail = t + 1\n",
    "                points = pos_interp[p][i,b_trail:e_trail]\n",
    "                ax.plot(points[:,0], points[:,1], \n",
    "                        c=colors[p][i], lw=1, alpha=0.1);\n",
    "            # Draw scatter\n",
    "            ax.scatter(pos_interp[p][:,t,0], pos_interp[p][:,t,1], \n",
    "                       edgecolors='#000000', s=15, c=colors[p], alpha=0.5, zorder=4);\n",
    "            # Write text with current t in the first axis\n",
    "            if name_to_ax[get_method(names[p_i])] == 0:\n",
    "                current_t = int(t/(n_nans+1))\n",
    "                ax.text(0.01, 0.01, str(current_t), \n",
    "                        ha='left', va='bottom', fontsize=18, transform=ax.transAxes)\n",
    "\n",
    "            ax.tick_params(axis='both', which='both', bottom=False, top=False,\n",
    "                           labelbottom=False, right=False, left=False, labelleft=False)\n",
    "            ax.set_xlim(lims[p][0], lims[p][1])\n",
    "            ax.set_ylim(lims[p][2], lims[p][3])\n",
    "            plt.tight_layout()\n",
    "    #      plt.axis('scaled')\n",
    "\n",
    "    # Save current frame\n",
    "    plt.savefig('{}/proj-{}.png'.format(anim_dir, t),\n",
    "                format='png', dpi=80, bbox_inches='tight')\n",
    "#     plt.show()\n",
    "    plt.clf()\n",
    "    plt.close()\n",
    "#     break"
   ]
  },
  {
   "cell_type": "code",
   "execution_count": null,
   "metadata": {},
   "outputs": [],
   "source": [
    "# Generate gif - usually large\n",
    "# n = n_extended-1\n",
    "# !convert -delay 5 -loop 0 {anim_dir}/proj-%d.png[0-{n}] {anim_dir}/{dataset_id}-gif.gif"
   ]
  },
  {
   "cell_type": "code",
   "execution_count": null,
   "metadata": {},
   "outputs": [],
   "source": [
    "os.chdir(anim_dir)\n",
    "! pwd"
   ]
  },
  {
   "cell_type": "code",
   "execution_count": null,
   "metadata": {},
   "outputs": [],
   "source": [
    "# sudo apt install mencoder"
   ]
  },
  {
   "cell_type": "code",
   "execution_count": null,
   "metadata": {},
   "outputs": [],
   "source": [
    "# # Generate video\n",
    "! ls | grep .*.png | sort -V > order.txt\n",
    "! mencoder mf://@order.txt -mf fps=10:type=png -ovc x264 -x264encopts bitrate=2400:threads=2 -o {dataset_id}-avi-10.avi\n",
    "# ! mencoder mf://@order.txt -mf fps=15:type=png -ovc x264 -x264encopts bitrate=2400:threads=2 -o {dataset_id}-avi-15.avi\n",
    "! rm order.txt"
   ]
  },
  {
   "cell_type": "code",
   "execution_count": null,
   "metadata": {},
   "outputs": [],
   "source": [
    "# # Remove intermediate files\n",
    "# for i in range(n_extended):\n",
    "#     if i % (n_nans+1) != 0:\n",
    "#         r = 'proj-{}.png'.format(anim_dir, i) \n",
    "#         print('rm ' + r)\n",
    "#         ! rm {r}"
   ]
  }
 ],
 "metadata": {
  "celltoolbar": "Tags",
  "kernelspec": {
   "display_name": "Python 3",
   "language": "python",
   "name": "python3"
  },
  "language_info": {
   "codemirror_mode": {
    "name": "ipython",
    "version": 3
   },
   "file_extension": ".py",
   "mimetype": "text/x-python",
   "name": "python",
   "nbconvert_exporter": "python",
   "pygments_lexer": "ipython3",
   "version": "3.5.2"
  }
 },
 "nbformat": 4,
 "nbformat_minor": 2
}
