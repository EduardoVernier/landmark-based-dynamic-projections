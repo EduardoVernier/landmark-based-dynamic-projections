{
 "cells": [
  {
   "cell_type": "code",
   "execution_count": 3,
   "metadata": {},
   "outputs": [],
   "source": [
    "%matplotlib inline\n",
    "import pandas as pd\n",
    "import numpy as np\n",
    "import matplotlib\n",
    "import matplotlib.pyplot as plt\n",
    "import os\n",
    "from glob import glob"
   ]
  },
  {
   "cell_type": "code",
   "execution_count": 4,
   "metadata": {
    "tags": [
     "parameters"
    ]
   },
   "outputs": [],
   "source": [
    "dataset_id = ''"
   ]
  },
  {
   "cell_type": "code",
   "execution_count": 5,
   "metadata": {},
   "outputs": [
    {
     "name": "stdout",
     "output_type": "stream",
     "text": [
      "/home/eduardo/PhD/Projections/landmark-based-dynamic-projections/plots\r\n"
     ]
    }
   ],
   "source": [
    "!pwd"
   ]
  },
  {
   "cell_type": "code",
   "execution_count": 6,
   "metadata": {},
   "outputs": [],
   "source": [
    "dataset_id = 'quickdraw'\n",
    "os.chdir('..')"
   ]
  },
  {
   "cell_type": "code",
   "execution_count": 7,
   "metadata": {},
   "outputs": [],
   "source": [
    "projection_paths = pd.read_csv('metrics/results/{}.csv'.format(dataset_id), index_col=0).index\n",
    "names = projection_paths.str.extract(r'.*/{}-(.*).csv'.format(dataset_id), expand=False) # Clean string"
   ]
  },
  {
   "cell_type": "code",
   "execution_count": 8,
   "metadata": {
    "scrolled": true
   },
   "outputs": [],
   "source": [
    "dataset_path = '../Datasets/' + 'quickdraw' + '/'\n",
    "# print(projection_paths, dataset_id)"
   ]
  },
  {
   "cell_type": "code",
   "execution_count": 9,
   "metadata": {},
   "outputs": [],
   "source": [
    "projection_paths = [\n",
    "        '/home/eduardo/PhD/Projections/dynamic-projections/Output/quickdraw-AE_784f_500f_500f_2000f_2f_20ep.csv',\n",
    "       '/home/eduardo/PhD/Projections/dynamic-projections/Output/quickdraw-VAE_784f_2048f_1024f_512f_2f_0-25drop_10ep.csv',\n",
    "       '',\n",
    "        '/home/eduardo/PhD/Projections/dynamic-projections/Output/quickdraw-tsne_s1_30p.csv', '/home/eduardo/PhD/Projections/dynamic-projections/Output/quickdraw-tsne_s4_30p.csv',\n",
    "       '/home/eduardo/PhD/Projections/dynamic-projections/Output/quickdraw-dtsne_200p_0-1l.csv',\n",
    "       '/home/eduardo/PhD/Projections/dynamic-projections/Output/quickdraw-umap_s1_15p.csv', '/home/eduardo/PhD/Projections/dynamic-projections/Output/quickdraw-umap_s4_15p.csv',   \n",
    "    '',\n",
    "    '/home/eduardo/PhD/Projections/dynamic-projections/Output/quickdraw-pca_s1.csv', '/home/eduardo/PhD/Projections/dynamic-projections/Output/quickdraw-pca_s4.csv', \n",
    "    '',\n",
    "       'output/quickdraw-ldtsne-p30-l0_1000-ge2-le1-krandom-n-TSNE-1585997292.csv',\n",
    "       'output/quickdraw-pcadtsne-p30-l0_001000-le1-ls1_00.csv',\n",
    "        ''\n",
    "]"
   ]
  },
  {
   "cell_type": "code",
   "execution_count": 10,
   "metadata": {},
   "outputs": [
    {
     "name": "stdout",
     "output_type": "stream",
     "text": [
      "mkdir: cannot create directory ‘plots/anim/bb’: No such file or directory\r\n"
     ]
    }
   ],
   "source": [
    "!mkdir {'plots/anim/'+'bb'}"
   ]
  },
  {
   "cell_type": "code",
   "execution_count": 11,
   "metadata": {},
   "outputs": [],
   "source": [
    "def get_projection_as_array(dataset_path):\n",
    "    df = pd.read_csv(dataset_path, index_col=0)\n",
    "    vs = df.values.reshape(len(df), -1, 2)\n",
    "    return vs, df.index, vs.shape[1]"
   ]
  },
  {
   "cell_type": "code",
   "execution_count": 12,
   "metadata": {},
   "outputs": [],
   "source": [
    "lims = {}\n",
    "pos_interp = {}\n",
    "indexes = {}\n",
    "colors = {}\n",
    "for p_i, p in enumerate(projection_paths):\n",
    "    if p == '':\n",
    "        p=projection_paths[0]\n",
    "        \n",
    "    pos, ind, n_timesteps = get_projection_as_array(p)\n",
    "    # Shuffle arrays\n",
    "    perm = np.random.permutation(len(ind))\n",
    "    pos = pos[perm]\n",
    "    indexes[p] = ind[perm]\n",
    "\n",
    "    # Set x and y axis limits\n",
    "    x_max = max(pos[:,:,0].flatten())\n",
    "    x_min = min(pos[:,:,0].flatten())\n",
    "    y_max = max(pos[:,:,1].flatten())\n",
    "    y_min = min(pos[:,:,1].flatten())\n",
    "    x_max = x_max + (x_max - x_min) * .03\n",
    "    x_min = x_min - (x_max - x_min) * .03\n",
    "    y_max = y_max + (y_max - y_min) * .03\n",
    "    y_min = y_min - (y_max - y_min) * .03\n",
    "    lims[p] = (x_min, x_max, y_min, y_max)\n",
    "\n",
    "    # Choose colors\n",
    "    colormap = matplotlib.cm.Set3\n",
    "    classes = indexes[p].str.split('-').str[0]\n",
    "    unique_colors = {k:i for i,k in enumerate(np.unique(classes))}\n",
    "    colors[p] = [colormap(unique_colors[c]) for c in classes] \n",
    "\n",
    "    # Add more points with akima interpolation\n",
    "    n_nans = 9\n",
    "    pos_int = []\n",
    "    for points in pos:\n",
    "        extended = []\n",
    "        for po in points:\n",
    "            extended.append(list(po))\n",
    "            for i in range(n_nans):\n",
    "                extended.append([np.nan, np.nan])\n",
    "        df = pd.DataFrame(extended)\n",
    "        df = df.interpolate(method='akima')\n",
    "        df = df.dropna()\n",
    "        pos_int.append(df.values)\n",
    "    pos_interp[p] = np.array(pos_int)\n",
    "    n_extended = len(df)"
   ]
  },
  {
   "cell_type": "code",
   "execution_count": 17,
   "metadata": {
    "scrolled": false
   },
   "outputs": [],
   "source": [
    "from matplotlib.offsetbox import OffsetImage, AnnotationBbox\n",
    "\n",
    "anim_dir = 'plots/anim/{}'.format('bb')\n",
    "# Draw figures\n",
    "size_trail = 5\n",
    "n_proj = len(projection_paths)\n",
    "\n",
    "for t in range(int(n_extended/2)):\n",
    "    ncols = 3\n",
    "    nrows = 5\n",
    "    fig, axes = plt.subplots(ncols=ncols, nrows=nrows,figsize=(ncols*4,nrows*3))   \n",
    "    axes = axes.flatten()\n",
    "#         if len(axes) > n_proj:\n",
    "#             [ax.set_visible(False) for ax in axes[n_proj:len(axes)]]\n",
    "            \n",
    "    for p_i, p in enumerate(projection_paths):\n",
    "        # Draw trails\n",
    "        ax = axes[p_i]\n",
    "\n",
    "        if p == '':\n",
    "            ax.set_visible(False)\n",
    "            continue\n",
    "\n",
    "#         ax.set_title(names[p_i])\n",
    "        for i in range(len(indexes[p])):\n",
    "            b_trail = max(0, t - n_nans * size_trail)\n",
    "            e_trail = t + 1\n",
    "            points = pos_interp[p][i,b_trail:e_trail]\n",
    "            ax.plot(points[:,0], points[:,1], \n",
    "                    c=colors[p][i], lw=2, alpha=0.25);\n",
    "        # Draw scatter\n",
    "        ax.scatter(pos_interp[p][:,t,0], pos_interp[p][:,t,1], \n",
    "                   edgecolors='#000000', s=15, c=colors[p], alpha=0.5, zorder=4);\n",
    "\n",
    "        \n",
    "        ax.tick_params(axis='both', which='both', bottom=False, top=False,\n",
    "                       labelbottom=False, right=False, left=False, labelleft=False)\n",
    "        ax.set_xlim(lims[p][0], lims[p][1])\n",
    "        ax.set_ylim(lims[p][2], lims[p][3])\n",
    "        plt.tight_layout()\n",
    "#      plt.axis('scaled')\n",
    "\n",
    "    # Save current frame\n",
    "    plt.savefig('{}/proj-{}.png'.format(anim_dir, t),\n",
    "                format='png', dpi=80, bbox_inches='tight')\n",
    "#     plt.show()\n",
    "    plt.clf()\n",
    "    plt.close()\n",
    "#     break"
   ]
  },
  {
   "cell_type": "code",
   "execution_count": null,
   "metadata": {},
   "outputs": [],
   "source": [
    "# Generate gif - usually large\n",
    "# n = n_extended-1\n",
    "# !convert -delay 5 -loop 0 {anim_dir}/proj-%d.png[0-{n}] {anim_dir}/{dataset_id}-gif.gif"
   ]
  },
  {
   "cell_type": "code",
   "execution_count": 18,
   "metadata": {},
   "outputs": [
    {
     "name": "stdout",
     "output_type": "stream",
     "text": [
      "/home/eduardo/PhD/Projections/landmark-based-dynamic-projections/plots/anim/bb\n",
      "gifski created file.gif                                                         "
     ]
    }
   ],
   "source": [
    "os.chdir(anim_dir)\n",
    "! pwd\n",
    "! gifski -o file.gif proj*.png"
   ]
  },
  {
   "cell_type": "code",
   "execution_count": null,
   "metadata": {},
   "outputs": [],
   "source": [
    "#sudo apt install mencoder"
   ]
  },
  {
   "cell_type": "code",
   "execution_count": null,
   "metadata": {},
   "outputs": [],
   "source": [
    "# # Generate video\n",
    "# ! ls | grep .*.png | sort -V > order.txt\n",
    "# ! mencoder mf://@order.txt -mf fps=10:type=png -ovc x264 -x264encopts bitrate=1200:threads=2 -o {dataset_id}-avi-10.avi\n",
    "# ! mencoder mf://@order.txt -mf fps=15:type=png -ovc x264 -x264encopts bitrate=1200:threads=2 -o {dataset_id}-avi-15.avi\n",
    "# ! rm order.txt"
   ]
  },
  {
   "cell_type": "code",
   "execution_count": null,
   "metadata": {},
   "outputs": [],
   "source": [
    "# # Remove intermediate files\n",
    "# for i in range(n_extended):\n",
    "#     if i % (n_nans+1) != 0:\n",
    "#         r = 'proj-{}.png'.format(anim_dir, i) \n",
    "#         print('rm ' + r)\n",
    "#         ! rm {r}"
   ]
  }
 ],
 "metadata": {
  "celltoolbar": "Tags",
  "kernelspec": {
   "display_name": "Python 3",
   "language": "python",
   "name": "python3"
  },
  "language_info": {
   "codemirror_mode": {
    "name": "ipython",
    "version": 3
   },
   "file_extension": ".py",
   "mimetype": "text/x-python",
   "name": "python",
   "nbconvert_exporter": "python",
   "pygments_lexer": "ipython3",
   "version": "3.5.2"
  }
 },
 "nbformat": 4,
 "nbformat_minor": 2
}
